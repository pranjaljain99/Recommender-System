{
 "cells": [
  {
   "cell_type": "code",
   "execution_count": 1,
   "metadata": {},
   "outputs": [],
   "source": [
    "#Loading Libraries\n",
    "import numpy as np\n",
    "import pandas as pd"
   ]
  },
  {
   "cell_type": "code",
   "execution_count": 2,
   "metadata": {},
   "outputs": [],
   "source": [
    "#Reading Datasets\n",
    "arts = pd.read_csv('Arts_Full2011.csv')\n",
    "mobile = pd.read_csv('Cell_Phones_&_Accessories_Full2011.csv')\n",
    "clothes = pd.read_csv('Clothing_&_Accessories_Full2011.csv')\n",
    "food = pd.read_csv('Gourmet_Foods_Full2011.csv')\n",
    "kinde = pd.read_csv('Kindle_Store_Full2011.csv')\n",
    "office = pd.read_csv('Office_Products_Full2011.csv')\n",
    "shoes = pd.read_csv('Shoes_Full2011.csv')\n",
    "software = pd.read_csv('Software_Full2011.csv')\n",
    "watches = pd.read_csv('Watches_Full2011.csv')\n",
    "#tools = pd.read_csv(' .csv')"
   ]
  },
  {
   "cell_type": "code",
   "execution_count": 3,
   "metadata": {},
   "outputs": [],
   "source": [
    "#Joining the datasets\n",
    "merge = pd.concat([arts, mobile, clothes, food, kinde, office, shoes, software, watches], axis=0)"
   ]
  },
  {
   "cell_type": "code",
   "execution_count": 4,
   "metadata": {},
   "outputs": [
    {
     "name": "stdout",
     "output_type": "stream",
     "text": [
      "<class 'pandas.core.frame.DataFrame'>\n",
      "Int64Index: 771725 entries, 0 to 24947\n",
      "Data columns (total 11 columns):\n",
      "price           771725 non-null object\n",
      "productId       771725 non-null object\n",
      "title           771725 non-null object\n",
      "review          771725 non-null object\n",
      "profileName     771725 non-null object\n",
      "score           771725 non-null float64\n",
      "summary         771725 non-null object\n",
      "text            771725 non-null object\n",
      "userId          771725 non-null object\n",
      "purchasedate    771725 non-null object\n",
      "Class           771725 non-null object\n",
      "dtypes: float64(1), object(10)\n",
      "memory usage: 70.7+ MB\n"
     ]
    }
   ],
   "source": [
    "merge.info()"
   ]
  },
  {
   "cell_type": "code",
   "execution_count": 5,
   "metadata": {},
   "outputs": [],
   "source": [
    "merge.to_csv('Overall_Dataset_Full2011.csv', index=False)"
   ]
  },
  {
   "cell_type": "code",
   "execution_count": null,
   "metadata": {},
   "outputs": [],
   "source": []
  }
 ],
 "metadata": {
  "kernelspec": {
   "display_name": "Python 3",
   "language": "python",
   "name": "python3"
  },
  "language_info": {
   "codemirror_mode": {
    "name": "ipython",
    "version": 3
   },
   "file_extension": ".py",
   "mimetype": "text/x-python",
   "name": "python",
   "nbconvert_exporter": "python",
   "pygments_lexer": "ipython3",
   "version": "3.7.3"
  }
 },
 "nbformat": 4,
 "nbformat_minor": 2
}
