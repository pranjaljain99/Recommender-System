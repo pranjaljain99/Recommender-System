{
 "cells": [
  {
   "cell_type": "code",
   "execution_count": 1,
   "metadata": {},
   "outputs": [],
   "source": [
    "#Loading Libraries\n",
    "import pandas as pd\n",
    "import numpy as np\n",
    "\n",
    "from datetime import datetime\n",
    "import matplotlib\n",
    "import matplotlib.pyplot as plt\n",
    "import seaborn as sns\n",
    "import pylab as plot\n",
    "%matplotlib inline\n",
    "\n",
    "import math\n",
    "from math import log"
   ]
  },
  {
   "cell_type": "code",
   "execution_count": 2,
   "metadata": {},
   "outputs": [],
   "source": [
    "#Loading dataset\n",
    "data = pd.read_csv(\"Overall_Dataset_Full2011.csv\")"
   ]
  },
  {
   "cell_type": "code",
   "execution_count": 4,
   "metadata": {},
   "outputs": [
    {
     "name": "stdout",
     "output_type": "stream",
     "text": [
      "<class 'pandas.core.frame.DataFrame'>\n",
      "RangeIndex: 771725 entries, 0 to 771724\n",
      "Data columns (total 11 columns):\n",
      "price           771725 non-null object\n",
      "productId       771725 non-null object\n",
      "title           771725 non-null object\n",
      "review          771725 non-null object\n",
      "profileName     771725 non-null object\n",
      "score           771725 non-null float64\n",
      "summary         771725 non-null object\n",
      "text            771725 non-null object\n",
      "userId          771725 non-null object\n",
      "purchasedate    771725 non-null object\n",
      "Class           771725 non-null object\n",
      "dtypes: float64(1), object(10)\n",
      "memory usage: 64.8+ MB\n"
     ]
    }
   ],
   "source": [
    "data.info()"
   ]
  },
  {
   "cell_type": "code",
   "execution_count": 6,
   "metadata": {},
   "outputs": [
    {
     "data": {
      "text/plain": [
       "array(['Arts', 'Cell_Phones_&_Accessories', 'Clothing_&_Accessories',\n",
       "       'Gourmet_Foods', 'Kindle_Store', 'Office_Products', 'Shoes',\n",
       "       'Software', 'Watches'], dtype=object)"
      ]
     },
     "execution_count": 6,
     "metadata": {},
     "output_type": "execute_result"
    }
   ],
   "source": [
    "np.unique(data['Class'])"
   ]
  },
  {
   "cell_type": "code",
   "execution_count": 7,
   "metadata": {},
   "outputs": [
    {
     "data": {
      "text/plain": [
       "(771725, 11)"
      ]
     },
     "execution_count": 7,
     "metadata": {},
     "output_type": "execute_result"
    }
   ],
   "source": [
    "data.shape"
   ]
  },
  {
   "cell_type": "code",
   "execution_count": 8,
   "metadata": {},
   "outputs": [
    {
     "data": {
      "text/html": [
       "<div>\n",
       "<style scoped>\n",
       "    .dataframe tbody tr th:only-of-type {\n",
       "        vertical-align: middle;\n",
       "    }\n",
       "\n",
       "    .dataframe tbody tr th {\n",
       "        vertical-align: top;\n",
       "    }\n",
       "\n",
       "    .dataframe thead th {\n",
       "        text-align: right;\n",
       "    }\n",
       "</style>\n",
       "<table border=\"1\" class=\"dataframe\">\n",
       "  <thead>\n",
       "    <tr style=\"text-align: right;\">\n",
       "      <th></th>\n",
       "      <th>score</th>\n",
       "    </tr>\n",
       "  </thead>\n",
       "  <tbody>\n",
       "    <tr>\n",
       "      <th>count</th>\n",
       "      <td>771725.000000</td>\n",
       "    </tr>\n",
       "    <tr>\n",
       "      <th>mean</th>\n",
       "      <td>4.192584</td>\n",
       "    </tr>\n",
       "    <tr>\n",
       "      <th>std</th>\n",
       "      <td>1.259280</td>\n",
       "    </tr>\n",
       "    <tr>\n",
       "      <th>min</th>\n",
       "      <td>1.000000</td>\n",
       "    </tr>\n",
       "    <tr>\n",
       "      <th>25%</th>\n",
       "      <td>4.000000</td>\n",
       "    </tr>\n",
       "    <tr>\n",
       "      <th>50%</th>\n",
       "      <td>5.000000</td>\n",
       "    </tr>\n",
       "    <tr>\n",
       "      <th>75%</th>\n",
       "      <td>5.000000</td>\n",
       "    </tr>\n",
       "    <tr>\n",
       "      <th>max</th>\n",
       "      <td>5.000000</td>\n",
       "    </tr>\n",
       "  </tbody>\n",
       "</table>\n",
       "</div>"
      ],
      "text/plain": [
       "               score\n",
       "count  771725.000000\n",
       "mean        4.192584\n",
       "std         1.259280\n",
       "min         1.000000\n",
       "25%         4.000000\n",
       "50%         5.000000\n",
       "75%         5.000000\n",
       "max         5.000000"
      ]
     },
     "execution_count": 8,
     "metadata": {},
     "output_type": "execute_result"
    }
   ],
   "source": [
    "data.describe()"
   ]
  },
  {
   "cell_type": "code",
   "execution_count": 9,
   "metadata": {},
   "outputs": [
    {
     "data": {
      "text/plain": [
       "price           0\n",
       "productId       0\n",
       "title           0\n",
       "review          0\n",
       "profileName     0\n",
       "score           0\n",
       "summary         0\n",
       "text            0\n",
       "userId          0\n",
       "purchasedate    0\n",
       "Class           0\n",
       "dtype: int64"
      ]
     },
     "execution_count": 9,
     "metadata": {},
     "output_type": "execute_result"
    }
   ],
   "source": [
    "data.isna().sum()"
   ]
  },
  {
   "cell_type": "code",
   "execution_count": 15,
   "metadata": {},
   "outputs": [
    {
     "name": "stdout",
     "output_type": "stream",
     "text": [
      "Number of Unique Products :  84619\n",
      "Number of Unique Customers :  265401\n"
     ]
    }
   ],
   "source": [
    "print(\"Number of Unique Products : \",len(np.unique(data['productId'])))\n",
    "print(\"Number of Unique Customers : \",len(np.unique(data['userId'])))"
   ]
  },
  {
   "cell_type": "code",
   "execution_count": 18,
   "metadata": {},
   "outputs": [
    {
     "name": "stdout",
     "output_type": "stream",
     "text": [
      "Number of Unique Product titles :  42049\n"
     ]
    }
   ],
   "source": [
    "print(\"Number of Unique Product titles : \",len(np.unique(data['title'])))"
   ]
  },
  {
   "cell_type": "code",
   "execution_count": 35,
   "metadata": {},
   "outputs": [
    {
     "name": "stdout",
     "output_type": "stream",
     "text": [
      "Percent of missing values in the feature - 'price' : 76.57118792315916 %\n"
     ]
    }
   ],
   "source": [
    "#Finding Missing data from price column\n",
    "print(\"Percent of missing values in the feature - 'price' :\",\n",
    "      ((len(data[data['price'].str.contains('unknown')]))/(len(data)))*100, \"%\")"
   ]
  },
  {
   "cell_type": "code",
   "execution_count": 38,
   "metadata": {},
   "outputs": [],
   "source": [
    "#Cleaning the price\n",
    "data['price'] = (data['price'].str.replace('unknown', '0').astype(float))"
   ]
  },
  {
   "cell_type": "code",
   "execution_count": 72,
   "metadata": {},
   "outputs": [],
   "source": [
    "data.loc[data[\"price\"] == 0, 'Status'] = 'Missing data'\n",
    "data.loc[data[\"price\"] != 0 , 'Status'] = 'available data'"
   ]
  },
  {
   "cell_type": "code",
   "execution_count": 73,
   "metadata": {},
   "outputs": [
    {
     "data": {
      "text/plain": [
       "771725"
      ]
     },
     "execution_count": 73,
     "metadata": {},
     "output_type": "execute_result"
    }
   ],
   "source": [
    "data.Status.count()"
   ]
  },
  {
   "cell_type": "code",
   "execution_count": 90,
   "metadata": {},
   "outputs": [
    {
     "data": {
      "image/png": "[encoded data removed]",
      "text/plain": [
       "<Figure size 576x360 with 1 Axes>"
      ]
     },
     "metadata": {},
     "output_type": "display_data"
    }
   ],
   "source": [
    "#Pie chart representation for the missing data distribution\n",
    "plt.figure(figsize=(8, 5))\n",
    "explode = (0, 0.1)\n",
    "data.Status.value_counts().plot(kind='pie',explode=explode,autopct='%1.1f%%' )\n",
    "plt.xticks(rotation=90)\n",
    "plt.show()"
   ]
  },
  {
   "cell_type": "code",
   "execution_count": 4,
   "metadata": {},
   "outputs": [],
   "source": [
    "#Datetime format\n",
    "data['purchasedate'] = pd.to_datetime(data['purchasedate'])"
   ]
  },
  {
   "cell_type": "code",
   "execution_count": 5,
   "metadata": {},
   "outputs": [],
   "source": [
    "#splitting into year and month\n",
    "data['year'] = data['purchasedate'].dt.year\n",
    "data['month'] = data['purchasedate'].dt.month"
   ]
  },
  {
   "cell_type": "markdown",
   "metadata": {},
   "source": [
    "# consistency of average ratings over time"
   ]
  },
  {
   "cell_type": "code",
   "execution_count": 8,
   "metadata": {},
   "outputs": [],
   "source": [
    "month_counts = data.groupby(['year', 'month'])['score'].agg([np.mean, np.std])\n",
    "month_counts = month_counts.rename(index=str, columns={'mean': 'Rating'})\n",
    "month_counts = month_counts.reset_index()\n",
    "month_counts['Date'] = month_counts[['year', 'month']].apply(\n",
    "    lambda x: datetime(year=int(x[0]), month=int(x[1]), day=1), axis=1\n",
    ")"
   ]
  },
  {
   "cell_type": "code",
   "execution_count": 11,
   "metadata": {},
   "outputs": [
    {
     "data": {
      "text/html": [
       "<div>\n",
       "<style scoped>\n",
       "    .dataframe tbody tr th:only-of-type {\n",
       "        vertical-align: middle;\n",
       "    }\n",
       "\n",
       "    .dataframe tbody tr th {\n",
       "        vertical-align: top;\n",
       "    }\n",
       "\n",
       "    .dataframe thead th {\n",
       "        text-align: right;\n",
       "    }\n",
       "</style>\n",
       "<table border=\"1\" class=\"dataframe\">\n",
       "  <thead>\n",
       "    <tr style=\"text-align: right;\">\n",
       "      <th></th>\n",
       "      <th>year</th>\n",
       "      <th>month</th>\n",
       "      <th>Rating</th>\n",
       "      <th>std</th>\n",
       "    </tr>\n",
       "    <tr>\n",
       "      <th>Date</th>\n",
       "      <th></th>\n",
       "      <th></th>\n",
       "      <th></th>\n",
       "      <th></th>\n",
       "    </tr>\n",
       "  </thead>\n",
       "  <tbody>\n",
       "    <tr>\n",
       "      <th>2011-01-01</th>\n",
       "      <td>2011</td>\n",
       "      <td>1</td>\n",
       "      <td>4.177570</td>\n",
       "      <td>1.243892</td>\n",
       "    </tr>\n",
       "    <tr>\n",
       "      <th>2011-02-01</th>\n",
       "      <td>2011</td>\n",
       "      <td>2</td>\n",
       "      <td>4.080788</td>\n",
       "      <td>1.310061</td>\n",
       "    </tr>\n",
       "    <tr>\n",
       "      <th>2011-03-01</th>\n",
       "      <td>2011</td>\n",
       "      <td>3</td>\n",
       "      <td>4.100500</td>\n",
       "      <td>1.333105</td>\n",
       "    </tr>\n",
       "    <tr>\n",
       "      <th>2011-04-01</th>\n",
       "      <td>2011</td>\n",
       "      <td>4</td>\n",
       "      <td>4.201207</td>\n",
       "      <td>1.228766</td>\n",
       "    </tr>\n",
       "    <tr>\n",
       "      <th>2011-05-01</th>\n",
       "      <td>2011</td>\n",
       "      <td>5</td>\n",
       "      <td>4.183696</td>\n",
       "      <td>1.308233</td>\n",
       "    </tr>\n",
       "    <tr>\n",
       "      <th>2011-06-01</th>\n",
       "      <td>2011</td>\n",
       "      <td>6</td>\n",
       "      <td>4.011206</td>\n",
       "      <td>1.362066</td>\n",
       "    </tr>\n",
       "    <tr>\n",
       "      <th>2011-07-01</th>\n",
       "      <td>2011</td>\n",
       "      <td>7</td>\n",
       "      <td>4.087206</td>\n",
       "      <td>1.309117</td>\n",
       "    </tr>\n",
       "    <tr>\n",
       "      <th>2011-08-01</th>\n",
       "      <td>2011</td>\n",
       "      <td>8</td>\n",
       "      <td>4.096741</td>\n",
       "      <td>1.316280</td>\n",
       "    </tr>\n",
       "    <tr>\n",
       "      <th>2011-09-01</th>\n",
       "      <td>2011</td>\n",
       "      <td>9</td>\n",
       "      <td>4.111308</td>\n",
       "      <td>1.395645</td>\n",
       "    </tr>\n",
       "    <tr>\n",
       "      <th>2011-10-01</th>\n",
       "      <td>2011</td>\n",
       "      <td>10</td>\n",
       "      <td>4.236944</td>\n",
       "      <td>1.219766</td>\n",
       "    </tr>\n",
       "    <tr>\n",
       "      <th>2011-11-01</th>\n",
       "      <td>2011</td>\n",
       "      <td>11</td>\n",
       "      <td>4.264354</td>\n",
       "      <td>1.226656</td>\n",
       "    </tr>\n",
       "    <tr>\n",
       "      <th>2011-12-01</th>\n",
       "      <td>2011</td>\n",
       "      <td>12</td>\n",
       "      <td>4.168141</td>\n",
       "      <td>1.337384</td>\n",
       "    </tr>\n",
       "    <tr>\n",
       "      <th>2012-01-01</th>\n",
       "      <td>2012</td>\n",
       "      <td>1</td>\n",
       "      <td>4.136491</td>\n",
       "      <td>1.337600</td>\n",
       "    </tr>\n",
       "    <tr>\n",
       "      <th>2012-02-01</th>\n",
       "      <td>2012</td>\n",
       "      <td>2</td>\n",
       "      <td>4.004234</td>\n",
       "      <td>1.398080</td>\n",
       "    </tr>\n",
       "    <tr>\n",
       "      <th>2012-03-01</th>\n",
       "      <td>2012</td>\n",
       "      <td>3</td>\n",
       "      <td>4.124099</td>\n",
       "      <td>1.336282</td>\n",
       "    </tr>\n",
       "    <tr>\n",
       "      <th>2012-04-01</th>\n",
       "      <td>2012</td>\n",
       "      <td>4</td>\n",
       "      <td>4.089649</td>\n",
       "      <td>1.338201</td>\n",
       "    </tr>\n",
       "    <tr>\n",
       "      <th>2012-05-01</th>\n",
       "      <td>2012</td>\n",
       "      <td>5</td>\n",
       "      <td>4.165458</td>\n",
       "      <td>1.261591</td>\n",
       "    </tr>\n",
       "    <tr>\n",
       "      <th>2012-06-01</th>\n",
       "      <td>2012</td>\n",
       "      <td>6</td>\n",
       "      <td>3.950556</td>\n",
       "      <td>1.366265</td>\n",
       "    </tr>\n",
       "    <tr>\n",
       "      <th>2012-07-01</th>\n",
       "      <td>2012</td>\n",
       "      <td>7</td>\n",
       "      <td>4.066175</td>\n",
       "      <td>1.355154</td>\n",
       "    </tr>\n",
       "    <tr>\n",
       "      <th>2012-08-01</th>\n",
       "      <td>2012</td>\n",
       "      <td>8</td>\n",
       "      <td>4.236689</td>\n",
       "      <td>1.219287</td>\n",
       "    </tr>\n",
       "    <tr>\n",
       "      <th>2012-09-01</th>\n",
       "      <td>2012</td>\n",
       "      <td>9</td>\n",
       "      <td>4.138646</td>\n",
       "      <td>1.328365</td>\n",
       "    </tr>\n",
       "    <tr>\n",
       "      <th>2012-10-01</th>\n",
       "      <td>2012</td>\n",
       "      <td>10</td>\n",
       "      <td>4.202611</td>\n",
       "      <td>1.244905</td>\n",
       "    </tr>\n",
       "    <tr>\n",
       "      <th>2012-11-01</th>\n",
       "      <td>2012</td>\n",
       "      <td>11</td>\n",
       "      <td>4.262983</td>\n",
       "      <td>1.166974</td>\n",
       "    </tr>\n",
       "    <tr>\n",
       "      <th>2012-12-01</th>\n",
       "      <td>2012</td>\n",
       "      <td>12</td>\n",
       "      <td>4.220979</td>\n",
       "      <td>1.225318</td>\n",
       "    </tr>\n",
       "    <tr>\n",
       "      <th>2013-01-01</th>\n",
       "      <td>2013</td>\n",
       "      <td>1</td>\n",
       "      <td>4.323477</td>\n",
       "      <td>1.151088</td>\n",
       "    </tr>\n",
       "    <tr>\n",
       "      <th>2013-02-01</th>\n",
       "      <td>2013</td>\n",
       "      <td>2</td>\n",
       "      <td>4.301639</td>\n",
       "      <td>1.139222</td>\n",
       "    </tr>\n",
       "    <tr>\n",
       "      <th>2013-03-01</th>\n",
       "      <td>2013</td>\n",
       "      <td>3</td>\n",
       "      <td>4.406716</td>\n",
       "      <td>1.084587</td>\n",
       "    </tr>\n",
       "  </tbody>\n",
       "</table>\n",
       "</div>"
      ],
      "text/plain": [
       "            year month    Rating       std\n",
       "Date                                      \n",
       "2011-01-01  2011     1  4.177570  1.243892\n",
       "2011-02-01  2011     2  4.080788  1.310061\n",
       "2011-03-01  2011     3  4.100500  1.333105\n",
       "2011-04-01  2011     4  4.201207  1.228766\n",
       "2011-05-01  2011     5  4.183696  1.308233\n",
       "2011-06-01  2011     6  4.011206  1.362066\n",
       "2011-07-01  2011     7  4.087206  1.309117\n",
       "2011-08-01  2011     8  4.096741  1.316280\n",
       "2011-09-01  2011     9  4.111308  1.395645\n",
       "2011-10-01  2011    10  4.236944  1.219766\n",
       "2011-11-01  2011    11  4.264354  1.226656\n",
       "2011-12-01  2011    12  4.168141  1.337384\n",
       "2012-01-01  2012     1  4.136491  1.337600\n",
       "2012-02-01  2012     2  4.004234  1.398080\n",
       "2012-03-01  2012     3  4.124099  1.336282\n",
       "2012-04-01  2012     4  4.089649  1.338201\n",
       "2012-05-01  2012     5  4.165458  1.261591\n",
       "2012-06-01  2012     6  3.950556  1.366265\n",
       "2012-07-01  2012     7  4.066175  1.355154\n",
       "2012-08-01  2012     8  4.236689  1.219287\n",
       "2012-09-01  2012     9  4.138646  1.328365\n",
       "2012-10-01  2012    10  4.202611  1.244905\n",
       "2012-11-01  2012    11  4.262983  1.166974\n",
       "2012-12-01  2012    12  4.220979  1.225318\n",
       "2013-01-01  2013     1  4.323477  1.151088\n",
       "2013-02-01  2013     2  4.301639  1.139222\n",
       "2013-03-01  2013     3  4.406716  1.084587"
      ]
     },
     "metadata": {},
     "output_type": "display_data"
    },
    {
     "data": {
      "image/png": "[encoded data removed]",
      "text/plain": [
       "<Figure size 432x288 with 1 Axes>"
      ]
     },
     "metadata": {
      "needs_background": "light"
     },
     "output_type": "display_data"
    }
   ],
   "source": [
    "month_counts = month_counts.set_index('Date', drop=True)\n",
    "display(month_counts)\n",
    "month_counts['Rating'].plot(style='o-')\n",
    "plt.fill_between(month_counts.index,\n",
    "                 month_counts['Rating'] - month_counts['std'],\n",
    "                 month_counts['Rating'] + month_counts['std'],\n",
    "                 alpha=0.3,\n",
    "                )\n",
    "plt.ylim([0, 5])\n",
    "plt.ylabel('Rating')\n",
    "plt.gca().grid(which='minor')\n",
    "plt.title('Rating Consistency over Time')\n",
    "plt.show()"
   ]
  },
  {
   "cell_type": "code",
   "execution_count": null,
   "metadata": {},
   "outputs": [],
   "source": []
  },
  {
   "cell_type": "markdown",
   "metadata": {},
   "source": [
    "# How sparse is the user/products matrix ?"
   ]
  },
  {
   "cell_type": "code",
   "execution_count": 18,
   "metadata": {},
   "outputs": [
    {
     "name": "stderr",
     "output_type": "stream",
     "text": [
      "C:\\Users\\jpran\\Anaconda3\\lib\\site-packages\\IPython\\core\\pylabtools.py:128: UserWarning: Creating legend with loc=\"best\" can be slow with large amounts of data.\n",
      "  fig.canvas.print_figure(bytes_io, **kw)\n"
     ]
    },
    {
     "data": {
      "image/png": "[encoded data removed]",
      "text/plain": [
       "<Figure size 432x288 with 1 Axes>"
      ]
     },
     "metadata": {
      "needs_background": "light"
     },
     "output_type": "display_data"
    }
   ],
   "source": [
    "user_counts = data['userId'].value_counts(ascending=True)\n",
    "user_counts.index = np.arange(len(user_counts)) / len(user_counts)\n",
    "plt.plot(user_counts, user_counts.index, '.', label='Users')\n",
    "movie_counts = data['productId'].value_counts(ascending=True)\n",
    "movie_counts.index = np.arange(len(movie_counts)) / len(movie_counts)\n",
    "plt.plot(movie_counts, movie_counts.index, '.', label='Products')\n",
    "plt.xlabel('Number of Ratings')\n",
    "plt.ylabel('ECDF')\n",
    "plt.legend()\n",
    "plt.show()"
   ]
  },
  {
   "cell_type": "code",
   "execution_count": 3,
   "metadata": {},
   "outputs": [
    {
     "data": {
      "text/html": [
       "<div>\n",
       "<style scoped>\n",
       "    .dataframe tbody tr th:only-of-type {\n",
       "        vertical-align: middle;\n",
       "    }\n",
       "\n",
       "    .dataframe tbody tr th {\n",
       "        vertical-align: top;\n",
       "    }\n",
       "\n",
       "    .dataframe thead th {\n",
       "        text-align: right;\n",
       "    }\n",
       "</style>\n",
       "<table border=\"1\" class=\"dataframe\">\n",
       "  <thead>\n",
       "    <tr style=\"text-align: right;\">\n",
       "      <th></th>\n",
       "      <th>count</th>\n",
       "    </tr>\n",
       "    <tr>\n",
       "      <th>productId</th>\n",
       "      <th></th>\n",
       "    </tr>\n",
       "  </thead>\n",
       "  <tbody>\n",
       "    <tr>\n",
       "      <th>0307236315</th>\n",
       "      <td>3</td>\n",
       "    </tr>\n",
       "    <tr>\n",
       "      <th>0310230691</th>\n",
       "      <td>1</td>\n",
       "    </tr>\n",
       "    <tr>\n",
       "      <th>031024837X</th>\n",
       "      <td>1</td>\n",
       "    </tr>\n",
       "    <tr>\n",
       "      <th>0310248396</th>\n",
       "      <td>1</td>\n",
       "    </tr>\n",
       "    <tr>\n",
       "      <th>0310258928</th>\n",
       "      <td>2</td>\n",
       "    </tr>\n",
       "  </tbody>\n",
       "</table>\n",
       "</div>"
      ],
      "text/plain": [
       "             count\n",
       "productId         \n",
       " 0307236315      3\n",
       " 0310230691      1\n",
       " 031024837X      1\n",
       " 0310248396      1\n",
       " 0310258928      2"
      ]
     },
     "execution_count": 3,
     "metadata": {},
     "output_type": "execute_result"
    }
   ],
   "source": [
    "data = pd.DataFrame(data.groupby('productId').size(), columns=['count'])\n",
    "data.head()"
   ]
  },
  {
   "cell_type": "code",
   "execution_count": 19,
   "metadata": {},
   "outputs": [
    {
     "data": {
      "text/plain": [
       "Text(0, 0.5, 'frequency of ratings')"
      ]
     },
     "execution_count": 19,
     "metadata": {},
     "output_type": "execute_result"
    },
    {
     "data": {
      "image/png": "[encoded data removed]",
      "text/plain": [
       "<Figure size 720x432 with 1 Axes>"
      ]
     },
     "metadata": {
      "needs_background": "light"
     },
     "output_type": "display_data"
    }
   ],
   "source": [
    "# plot rating frequency of all movies\n",
    "ax = data.sort_values('count', ascending=False).reset_index(drop=True) \n",
    "ax.plot(figsize=(10, 6),title='Rating Frequency of All Products',fontsize=12)\n",
    "plot.gca().grid(which='major')\n",
    "plot.xlabel(\"Product\")\n",
    "plot.ylabel(\"frequency of ratings\")"
   ]
  },
  {
   "cell_type": "code",
   "execution_count": 18,
   "metadata": {},
   "outputs": [
    {
     "data": {
      "text/plain": [
       "Text(0, 0.5, 'number of ratings (log scale)')"
      ]
     },
     "execution_count": 18,
     "metadata": {},
     "output_type": "execute_result"
    },
    {
     "data": {
      "image/png": "[encoded data removed]",
      "text/plain": [
       "<Figure size 720x432 with 1 Axes>"
      ]
     },
     "metadata": {
      "needs_background": "light"
     },
     "output_type": "display_data"
    }
   ],
   "source": [
    "# plot rating frequency of all movies in log scale\n",
    "ax = data.sort_values('count', ascending=False).reset_index(drop=True)\n",
    "ax.plot(figsize=(10, 6),title='Rating Frequency of All Products (in Log Scale)',fontsize=12,logy=True)\n",
    "plot.gca().grid(which='major')\n",
    "plot.xlabel(\"Products\")\n",
    "plot.ylabel(\"number of ratings (log scale)\")"
   ]
  },
  {
   "cell_type": "code",
   "execution_count": null,
   "metadata": {},
   "outputs": [],
   "source": []
  }
 ],
 "metadata": {
  "kernelspec": {
   "display_name": "Python 3",
   "language": "python",
   "name": "python3"
  },
  "language_info": {
   "codemirror_mode": {
    "name": "ipython",
    "version": 3
   },
   "file_extension": ".py",
   "mimetype": "text/x-python",
   "name": "python",
   "nbconvert_exporter": "python",
   "pygments_lexer": "ipython3",
   "version": "3.7.3"
  }
 },
 "nbformat": 4,
 "nbformat_minor": 2
}
